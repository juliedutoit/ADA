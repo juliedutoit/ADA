{
 "cells": [
  {
   "cell_type": "markdown",
   "metadata": {},
   "source": [
    "### In this exercise, first, you will familiarize yourself with python libraries statsmodels and SciPy that let you do statistical analysis: calculate descriptive statistics, sample the. datapoints, study relationship between variables, and perform hypothesis testing. Then, second, you will work independently on a set of exercises that will let you practice your skills.\n",
    "\n",
    "### Here we show a couple of examples of how to do common analyses, but there are many more useful statistical distributions and statistical tests. In the linked documentation, you will find complete information, and a lot more details compared to what is outlined in this notebook:\n",
    "- [statsmodels](https://www.statsmodels.org/stable/examples/index.html), [more complete documentation](https://www.statsmodels.org/stable/stats.html)\n",
    "- [SciPy](https://docs.scipy.org/doc/scipy/reference/stats.html)"
   ]
  },
  {
   "cell_type": "markdown",
   "metadata": {},
   "source": [
    "# Tutorial: How to use the libraries\n",
    "\n",
    "- You will be working with the full US 2015 census dataset (acs2015_county_data.csv, available at https://www.kaggle.com/muonneutrino/us-census-demographic-data#acs2015_county_data.csv). Here we load it. Take some time to familiarize yourself with the contents. One row represents one county."
   ]
  },
  {
   "cell_type": "code",
   "execution_count": 1,
   "metadata": {},
   "outputs": [],
   "source": [
    "import pandas as pd\n",
    "import pandas as pd\n",
    "import numpy as np\n",
    "import matplotlib.pyplot as plt\n",
    "%matplotlib inline\n",
    "import seaborn as sns\n",
    "import math\n",
    "\n",
    "#load the statistical libraries\n",
    "#!conda install -c conda-forge statsmodels \n",
    "import statsmodels.api as sm\n",
    "import statsmodels\n",
    "from statsmodels.stats import diagnostic\n",
    "from scipy import stats\n"
   ]
  },
  {
   "cell_type": "code",
   "execution_count": 2,
   "metadata": {},
   "outputs": [],
   "source": [
    "data_folder = './data/'\n",
    "df = pd.read_csv(data_folder + 'acs2015_county_data.csv')"
   ]
  },
  {
   "cell_type": "code",
   "execution_count": 3,
   "metadata": {},
   "outputs": [
    {
     "data": {
      "text/plain": [
       "Index(['CensusId', 'State', 'County', 'TotalPop', 'Men', 'Women', 'Hispanic',\n",
       "       'White', 'Black', 'Native', 'Asian', 'Pacific', 'Citizen', 'Income',\n",
       "       'IncomeErr', 'IncomePerCap', 'IncomePerCapErr', 'Poverty',\n",
       "       'ChildPoverty', 'Professional', 'Service', 'Office', 'Construction',\n",
       "       'Production', 'Drive', 'Carpool', 'Transit', 'Walk', 'OtherTransp',\n",
       "       'WorkAtHome', 'MeanCommute', 'Employed', 'PrivateWork', 'PublicWork',\n",
       "       'SelfEmployed', 'FamilyWork', 'Unemployment'],\n",
       "      dtype='object')"
      ]
     },
     "execution_count": 3,
     "metadata": {},
     "output_type": "execute_result"
    }
   ],
   "source": [
    "df.columns"
   ]
  },
  {
   "cell_type": "code",
   "execution_count": 4,
   "metadata": {},
   "outputs": [
    {
     "data": {
      "text/html": [
       "<div>\n",
       "<style scoped>\n",
       "    .dataframe tbody tr th:only-of-type {\n",
       "        vertical-align: middle;\n",
       "    }\n",
       "\n",
       "    .dataframe tbody tr th {\n",
       "        vertical-align: top;\n",
       "    }\n",
       "\n",
       "    .dataframe thead th {\n",
       "        text-align: right;\n",
       "    }\n",
       "</style>\n",
       "<table border=\"1\" class=\"dataframe\">\n",
       "  <thead>\n",
       "    <tr style=\"text-align: right;\">\n",
       "      <th></th>\n",
       "      <th>CensusId</th>\n",
       "      <th>State</th>\n",
       "      <th>County</th>\n",
       "      <th>TotalPop</th>\n",
       "      <th>Men</th>\n",
       "      <th>Women</th>\n",
       "      <th>Hispanic</th>\n",
       "      <th>White</th>\n",
       "      <th>Black</th>\n",
       "      <th>Native</th>\n",
       "      <th>...</th>\n",
       "      <th>Walk</th>\n",
       "      <th>OtherTransp</th>\n",
       "      <th>WorkAtHome</th>\n",
       "      <th>MeanCommute</th>\n",
       "      <th>Employed</th>\n",
       "      <th>PrivateWork</th>\n",
       "      <th>PublicWork</th>\n",
       "      <th>SelfEmployed</th>\n",
       "      <th>FamilyWork</th>\n",
       "      <th>Unemployment</th>\n",
       "    </tr>\n",
       "  </thead>\n",
       "  <tbody>\n",
       "    <tr>\n",
       "      <th>2508</th>\n",
       "      <td>47161</td>\n",
       "      <td>Tennessee</td>\n",
       "      <td>Stewart</td>\n",
       "      <td>13286</td>\n",
       "      <td>6668</td>\n",
       "      <td>6618</td>\n",
       "      <td>2.4</td>\n",
       "      <td>92.1</td>\n",
       "      <td>1.6</td>\n",
       "      <td>1.2</td>\n",
       "      <td>...</td>\n",
       "      <td>1.8</td>\n",
       "      <td>2.3</td>\n",
       "      <td>2.9</td>\n",
       "      <td>34.4</td>\n",
       "      <td>4818</td>\n",
       "      <td>65.6</td>\n",
       "      <td>28.5</td>\n",
       "      <td>5.7</td>\n",
       "      <td>0.2</td>\n",
       "      <td>10.1</td>\n",
       "    </tr>\n",
       "    <tr>\n",
       "      <th>748</th>\n",
       "      <td>18103</td>\n",
       "      <td>Indiana</td>\n",
       "      <td>Miami</td>\n",
       "      <td>36211</td>\n",
       "      <td>19482</td>\n",
       "      <td>16729</td>\n",
       "      <td>2.7</td>\n",
       "      <td>89.8</td>\n",
       "      <td>5.0</td>\n",
       "      <td>1.0</td>\n",
       "      <td>...</td>\n",
       "      <td>1.6</td>\n",
       "      <td>1.8</td>\n",
       "      <td>2.6</td>\n",
       "      <td>23.6</td>\n",
       "      <td>14752</td>\n",
       "      <td>78.6</td>\n",
       "      <td>15.8</td>\n",
       "      <td>5.4</td>\n",
       "      <td>0.2</td>\n",
       "      <td>9.4</td>\n",
       "    </tr>\n",
       "    <tr>\n",
       "      <th>1030</th>\n",
       "      <td>21075</td>\n",
       "      <td>Kentucky</td>\n",
       "      <td>Fulton</td>\n",
       "      <td>6422</td>\n",
       "      <td>3169</td>\n",
       "      <td>3253</td>\n",
       "      <td>1.5</td>\n",
       "      <td>71.5</td>\n",
       "      <td>24.9</td>\n",
       "      <td>0.1</td>\n",
       "      <td>...</td>\n",
       "      <td>2.5</td>\n",
       "      <td>2.3</td>\n",
       "      <td>4.6</td>\n",
       "      <td>20.5</td>\n",
       "      <td>2274</td>\n",
       "      <td>75.2</td>\n",
       "      <td>17.2</td>\n",
       "      <td>6.7</td>\n",
       "      <td>0.8</td>\n",
       "      <td>12.0</td>\n",
       "    </tr>\n",
       "    <tr>\n",
       "      <th>1276</th>\n",
       "      <td>26091</td>\n",
       "      <td>Michigan</td>\n",
       "      <td>Lenawee</td>\n",
       "      <td>98902</td>\n",
       "      <td>50231</td>\n",
       "      <td>48671</td>\n",
       "      <td>7.6</td>\n",
       "      <td>87.3</td>\n",
       "      <td>2.2</td>\n",
       "      <td>0.4</td>\n",
       "      <td>...</td>\n",
       "      <td>3.0</td>\n",
       "      <td>0.8</td>\n",
       "      <td>3.0</td>\n",
       "      <td>27.1</td>\n",
       "      <td>43095</td>\n",
       "      <td>82.3</td>\n",
       "      <td>12.2</td>\n",
       "      <td>5.4</td>\n",
       "      <td>0.1</td>\n",
       "      <td>8.6</td>\n",
       "    </tr>\n",
       "    <tr>\n",
       "      <th>85</th>\n",
       "      <td>2185</td>\n",
       "      <td>Alaska</td>\n",
       "      <td>North Slope Borough</td>\n",
       "      <td>9667</td>\n",
       "      <td>6172</td>\n",
       "      <td>3495</td>\n",
       "      <td>3.6</td>\n",
       "      <td>32.2</td>\n",
       "      <td>0.5</td>\n",
       "      <td>47.4</td>\n",
       "      <td>...</td>\n",
       "      <td>37.9</td>\n",
       "      <td>7.9</td>\n",
       "      <td>14.3</td>\n",
       "      <td>8.4</td>\n",
       "      <td>5499</td>\n",
       "      <td>73.8</td>\n",
       "      <td>25.2</td>\n",
       "      <td>0.9</td>\n",
       "      <td>0.0</td>\n",
       "      <td>9.3</td>\n",
       "    </tr>\n",
       "    <tr>\n",
       "      <th>905</th>\n",
       "      <td>20035</td>\n",
       "      <td>Kansas</td>\n",
       "      <td>Cowley</td>\n",
       "      <td>36079</td>\n",
       "      <td>18184</td>\n",
       "      <td>17895</td>\n",
       "      <td>10.0</td>\n",
       "      <td>80.9</td>\n",
       "      <td>2.8</td>\n",
       "      <td>1.8</td>\n",
       "      <td>...</td>\n",
       "      <td>2.4</td>\n",
       "      <td>1.9</td>\n",
       "      <td>4.3</td>\n",
       "      <td>18.6</td>\n",
       "      <td>15686</td>\n",
       "      <td>77.8</td>\n",
       "      <td>16.0</td>\n",
       "      <td>6.0</td>\n",
       "      <td>0.2</td>\n",
       "      <td>7.0</td>\n",
       "    </tr>\n",
       "    <tr>\n",
       "      <th>343</th>\n",
       "      <td>12049</td>\n",
       "      <td>Florida</td>\n",
       "      <td>Hardee</td>\n",
       "      <td>27468</td>\n",
       "      <td>14920</td>\n",
       "      <td>12548</td>\n",
       "      <td>43.0</td>\n",
       "      <td>47.4</td>\n",
       "      <td>7.7</td>\n",
       "      <td>0.3</td>\n",
       "      <td>...</td>\n",
       "      <td>2.3</td>\n",
       "      <td>3.7</td>\n",
       "      <td>2.6</td>\n",
       "      <td>24.4</td>\n",
       "      <td>9517</td>\n",
       "      <td>78.9</td>\n",
       "      <td>14.7</td>\n",
       "      <td>6.3</td>\n",
       "      <td>0.1</td>\n",
       "      <td>11.0</td>\n",
       "    </tr>\n",
       "    <tr>\n",
       "      <th>2959</th>\n",
       "      <td>53013</td>\n",
       "      <td>Washington</td>\n",
       "      <td>Columbia</td>\n",
       "      <td>3989</td>\n",
       "      <td>2005</td>\n",
       "      <td>1984</td>\n",
       "      <td>6.4</td>\n",
       "      <td>88.5</td>\n",
       "      <td>0.4</td>\n",
       "      <td>0.5</td>\n",
       "      <td>...</td>\n",
       "      <td>9.1</td>\n",
       "      <td>3.6</td>\n",
       "      <td>7.9</td>\n",
       "      <td>19.6</td>\n",
       "      <td>1557</td>\n",
       "      <td>58.0</td>\n",
       "      <td>28.8</td>\n",
       "      <td>12.7</td>\n",
       "      <td>0.4</td>\n",
       "      <td>10.4</td>\n",
       "    </tr>\n",
       "    <tr>\n",
       "      <th>1131</th>\n",
       "      <td>22037</td>\n",
       "      <td>Louisiana</td>\n",
       "      <td>East Feliciana</td>\n",
       "      <td>19855</td>\n",
       "      <td>10666</td>\n",
       "      <td>9189</td>\n",
       "      <td>1.3</td>\n",
       "      <td>52.8</td>\n",
       "      <td>44.7</td>\n",
       "      <td>0.3</td>\n",
       "      <td>...</td>\n",
       "      <td>1.9</td>\n",
       "      <td>0.6</td>\n",
       "      <td>2.7</td>\n",
       "      <td>33.0</td>\n",
       "      <td>7165</td>\n",
       "      <td>68.3</td>\n",
       "      <td>26.1</td>\n",
       "      <td>5.6</td>\n",
       "      <td>0.0</td>\n",
       "      <td>6.5</td>\n",
       "    </tr>\n",
       "    <tr>\n",
       "      <th>2542</th>\n",
       "      <td>48039</td>\n",
       "      <td>Texas</td>\n",
       "      <td>Brazoria</td>\n",
       "      <td>331741</td>\n",
       "      <td>168196</td>\n",
       "      <td>163545</td>\n",
       "      <td>28.9</td>\n",
       "      <td>50.6</td>\n",
       "      <td>12.8</td>\n",
       "      <td>0.3</td>\n",
       "      <td>...</td>\n",
       "      <td>0.8</td>\n",
       "      <td>1.2</td>\n",
       "      <td>2.6</td>\n",
       "      <td>29.1</td>\n",
       "      <td>154290</td>\n",
       "      <td>80.5</td>\n",
       "      <td>14.4</td>\n",
       "      <td>5.0</td>\n",
       "      <td>0.1</td>\n",
       "      <td>5.4</td>\n",
       "    </tr>\n",
       "  </tbody>\n",
       "</table>\n",
       "<p>10 rows × 37 columns</p>\n",
       "</div>"
      ],
      "text/plain": [
       "      CensusId       State               County  TotalPop     Men   Women  \\\n",
       "2508     47161   Tennessee              Stewart     13286    6668    6618   \n",
       "748      18103     Indiana                Miami     36211   19482   16729   \n",
       "1030     21075    Kentucky               Fulton      6422    3169    3253   \n",
       "1276     26091    Michigan              Lenawee     98902   50231   48671   \n",
       "85        2185      Alaska  North Slope Borough      9667    6172    3495   \n",
       "905      20035      Kansas               Cowley     36079   18184   17895   \n",
       "343      12049     Florida               Hardee     27468   14920   12548   \n",
       "2959     53013  Washington             Columbia      3989    2005    1984   \n",
       "1131     22037   Louisiana       East Feliciana     19855   10666    9189   \n",
       "2542     48039       Texas             Brazoria    331741  168196  163545   \n",
       "\n",
       "      Hispanic  White  Black  Native  ...  Walk  OtherTransp  WorkAtHome  \\\n",
       "2508       2.4   92.1    1.6     1.2  ...   1.8          2.3         2.9   \n",
       "748        2.7   89.8    5.0     1.0  ...   1.6          1.8         2.6   \n",
       "1030       1.5   71.5   24.9     0.1  ...   2.5          2.3         4.6   \n",
       "1276       7.6   87.3    2.2     0.4  ...   3.0          0.8         3.0   \n",
       "85         3.6   32.2    0.5    47.4  ...  37.9          7.9        14.3   \n",
       "905       10.0   80.9    2.8     1.8  ...   2.4          1.9         4.3   \n",
       "343       43.0   47.4    7.7     0.3  ...   2.3          3.7         2.6   \n",
       "2959       6.4   88.5    0.4     0.5  ...   9.1          3.6         7.9   \n",
       "1131       1.3   52.8   44.7     0.3  ...   1.9          0.6         2.7   \n",
       "2542      28.9   50.6   12.8     0.3  ...   0.8          1.2         2.6   \n",
       "\n",
       "      MeanCommute  Employed  PrivateWork  PublicWork  SelfEmployed  \\\n",
       "2508         34.4      4818         65.6        28.5           5.7   \n",
       "748          23.6     14752         78.6        15.8           5.4   \n",
       "1030         20.5      2274         75.2        17.2           6.7   \n",
       "1276         27.1     43095         82.3        12.2           5.4   \n",
       "85            8.4      5499         73.8        25.2           0.9   \n",
       "905          18.6     15686         77.8        16.0           6.0   \n",
       "343          24.4      9517         78.9        14.7           6.3   \n",
       "2959         19.6      1557         58.0        28.8          12.7   \n",
       "1131         33.0      7165         68.3        26.1           5.6   \n",
       "2542         29.1    154290         80.5        14.4           5.0   \n",
       "\n",
       "      FamilyWork  Unemployment  \n",
       "2508         0.2          10.1  \n",
       "748          0.2           9.4  \n",
       "1030         0.8          12.0  \n",
       "1276         0.1           8.6  \n",
       "85           0.0           9.3  \n",
       "905          0.2           7.0  \n",
       "343          0.1          11.0  \n",
       "2959         0.4          10.4  \n",
       "1131         0.0           6.5  \n",
       "2542         0.1           5.4  \n",
       "\n",
       "[10 rows x 37 columns]"
      ]
     },
     "execution_count": 4,
     "metadata": {},
     "output_type": "execute_result"
    }
   ],
   "source": [
    "df.sample(10)"
   ]
  },
  {
   "cell_type": "markdown",
   "metadata": {},
   "source": [
    "- We will focus first on income per capita across counties."
   ]
  },
  {
   "cell_type": "code",
   "execution_count": 5,
   "metadata": {},
   "outputs": [
    {
     "data": {
      "text/plain": [
       "<matplotlib.axes._subplots.AxesSubplot at 0x202e6f1deb0>"
      ]
     },
     "execution_count": 5,
     "metadata": {},
     "output_type": "execute_result"
    },
    {
     "data": {
      "image/png": "[encoded data removed]",
      "text/plain": [
       "<Figure size 432x288 with 1 Axes>"
      ]
     },
     "metadata": {
      "needs_background": "light"
     },
     "output_type": "display_data"
    }
   ],
   "source": [
    "df['IncomePerCap'].hist(bins = 50)"
   ]
  },
  {
   "cell_type": "markdown",
   "metadata": {},
   "source": [
    "### 1. Calculating descriptive statisctics\n",
    "\n",
    "- Let's calculate basic descriptive statistics of the income per capita"
   ]
  },
  {
   "cell_type": "code",
   "execution_count": 6,
   "metadata": {},
   "outputs": [
    {
     "data": {
      "text/plain": [
       "count     3220.000000\n",
       "mean     23981.771739\n",
       "std       6204.339960\n",
       "min       5878.000000\n",
       "25%      20238.500000\n",
       "50%      23460.000000\n",
       "75%      27053.250000\n",
       "max      65600.000000\n",
       "Name: IncomePerCap, dtype: float64"
      ]
     },
     "execution_count": 6,
     "metadata": {},
     "output_type": "execute_result"
    }
   ],
   "source": [
    "df['IncomePerCap'].describe()"
   ]
  },
  {
   "cell_type": "markdown",
   "metadata": {},
   "source": [
    "- What distribution does the data come from? Here is how we can test the goodness of the fit."
   ]
  },
  {
   "cell_type": "code",
   "execution_count": 7,
   "metadata": {},
   "outputs": [
    {
     "name": "stderr",
     "output_type": "stream",
     "text": [
      "C:\\Users\\julie\\anaconda3\\lib\\site-packages\\statsmodels\\stats\\_lilliefors.py:272: FutureWarning: The default pvalmethod will change from \"approx\" to \"table\" after 0.11. The \"table\" method uses values from a very large simulation and is more accurate.  Explicitly set this parameter to \"approx\" or \"table\" to silence this warning\n",
      "  warnings.warn(msg, FutureWarning)\n"
     ]
    },
    {
     "data": {
      "text/plain": [
       "(0.0637621121184162, 2.383237681149642e-34)"
      ]
     },
     "execution_count": 7,
     "metadata": {},
     "output_type": "execute_result"
    }
   ],
   "source": [
    "# does the data come from a normal distrbution?\n",
    "diagnostic.kstest_normal(df['IncomePerCap'].values, dist = 'norm')"
   ]
  },
  {
   "cell_type": "markdown",
   "metadata": {},
   "source": [
    "- p_value < 0.05 -> we can reject the null hypothesis that the data comes from a normal distribution!"
   ]
  },
  {
   "cell_type": "code",
   "execution_count": 8,
   "metadata": {},
   "outputs": [
    {
     "data": {
      "text/plain": [
       "(0.433243770582646, 0.0009999999999998899)"
      ]
     },
     "execution_count": 8,
     "metadata": {},
     "output_type": "execute_result"
    }
   ],
   "source": [
    "#how about exponential?\n",
    "diagnostic.kstest_normal(df['IncomePerCap'].values, dist = 'exp')"
   ]
  },
  {
   "cell_type": "markdown",
   "metadata": {},
   "source": [
    "- p < 0.05 -> not exponential either!"
   ]
  },
  {
   "cell_type": "markdown",
   "metadata": {},
   "source": [
    "### 2. How to sample the data"
   ]
  },
  {
   "cell_type": "markdown",
   "metadata": {},
   "source": [
    "- Often we need to find random samples from the dataset. We can do so conveniently with pandas wrappers."
   ]
  },
  {
   "cell_type": "code",
   "execution_count": 9,
   "metadata": {},
   "outputs": [],
   "source": [
    "#make 10 samples with replacement\n",
    "sample1_counties = df.sample(n = 10, replace = True)\n",
    "\n",
    "#make 10 samples without replacement\n",
    "sample1_counties = df.sample(n = 10, replace = False)\n",
    "\n",
    "#sometimes we want to sample in an ublanaced way, so that we upsample datapoints of certain characteristic,\n",
    "#and downsample the others. this can be acieved with weights parameter\n",
    "#here we sample by upsampling counties with large population\n",
    "sample2_counties = df.sample(n = 10, replace = False, weights = df['TotalPop'])"
   ]
  },
  {
   "cell_type": "code",
   "execution_count": 10,
   "metadata": {},
   "outputs": [
    {
     "name": "stdout",
     "output_type": "stream",
     "text": [
      "57810.7\n",
      "2372797.0\n"
     ]
    }
   ],
   "source": [
    "#on avergage, the samples in the sample produce with reveighting now have higher population, as we wanted!\n",
    "print(sample1_counties['TotalPop'].mean())\n",
    "print(sample2_counties['TotalPop'].mean())"
   ]
  },
  {
   "cell_type": "markdown",
   "metadata": {},
   "source": [
    "### 3. Examining relationship between two variables"
   ]
  },
  {
   "cell_type": "markdown",
   "metadata": {},
   "source": [
    "- Is income per capita of a county correlated with the unemployment?"
   ]
  },
  {
   "cell_type": "code",
   "execution_count": 11,
   "metadata": {},
   "outputs": [
    {
     "data": {
      "text/plain": [
       "(0.2646136320394489, 9.942215354237806e-53)"
      ]
     },
     "execution_count": 11,
     "metadata": {},
     "output_type": "execute_result"
    }
   ],
   "source": [
    "stats.pearsonr(df['IncomePerCap'],df['Employed'])"
   ]
  },
  {
   "cell_type": "markdown",
   "metadata": {},
   "source": [
    "- There is a small (0.26), but significant (p < 0.05) positive correlation"
   ]
  },
  {
   "cell_type": "code",
   "execution_count": 12,
   "metadata": {},
   "outputs": [
    {
     "data": {
      "text/plain": [
       "SpearmanrResult(correlation=0.30770631560595474, pvalue=1.415296431173735e-71)"
      ]
     },
     "execution_count": 12,
     "metadata": {},
     "output_type": "execute_result"
    }
   ],
   "source": [
    "stats.spearmanr(df['IncomePerCap'],df['Employed'])"
   ]
  },
  {
   "cell_type": "markdown",
   "metadata": {},
   "source": [
    "- Spearman rank coorrelation is also significant, and slightly higher"
   ]
  },
  {
   "cell_type": "markdown",
   "metadata": {},
   "source": [
    "### 4. Hypothesis testing"
   ]
  },
  {
   "cell_type": "markdown",
   "metadata": {},
   "source": [
    "- Is income per capita higher in New York counties compared to California counties?"
   ]
  },
  {
   "cell_type": "code",
   "execution_count": 13,
   "metadata": {},
   "outputs": [
    {
     "data": {
      "text/plain": [
       "28189.75806451613"
      ]
     },
     "execution_count": 13,
     "metadata": {},
     "output_type": "execute_result"
    }
   ],
   "source": [
    "df.loc[df['State'] == 'New York']['IncomePerCap'].mean()"
   ]
  },
  {
   "cell_type": "code",
   "execution_count": 14,
   "metadata": {},
   "outputs": [
    {
     "data": {
      "text/plain": [
       "27902.603448275862"
      ]
     },
     "execution_count": 14,
     "metadata": {},
     "output_type": "execute_result"
    }
   ],
   "source": [
    "df.loc[df['State'] == 'California']['IncomePerCap'].mean()"
   ]
  },
  {
   "cell_type": "markdown",
   "metadata": {},
   "source": [
    "- We see that there is a ~300$ gap. Quite a lot!\n",
    "- But is it significantly higher? Let's use a t-test. This is a two-sided test for the null hypothesis that the two independent samples have identical average (expected) values. "
   ]
  },
  {
   "cell_type": "code",
   "execution_count": 15,
   "metadata": {},
   "outputs": [
    {
     "data": {
      "text/plain": [
       "Ttest_indResult(statistic=0.19788117232375713, pvalue=0.8434785239169611)"
      ]
     },
     "execution_count": 15,
     "metadata": {},
     "output_type": "execute_result"
    }
   ],
   "source": [
    "stats.ttest_ind(df.loc[df['State'] == 'New York']['IncomePerCap'], df.loc[df['State'] == 'California']['IncomePerCap'])"
   ]
  },
  {
   "cell_type": "markdown",
   "metadata": {},
   "source": [
    "- p is not less than 0.05 -> we cannot reject the null hypothesis that the income is the same -> there is no significant difference"
   ]
  },
  {
   "cell_type": "markdown",
   "metadata": {},
   "source": [
    "### 5. How to measure uncertainty\n",
    "- Now we see the importance of mesuring uncertainty and indicating it on data visualizations.\n",
    "- Visual inspection of 95% confidence intervals lets us see that the difference is not significant (the errorbars are overlapping)"
   ]
  },
  {
   "cell_type": "code",
   "execution_count": 16,
   "metadata": {},
   "outputs": [
    {
     "data": {
      "text/plain": [
       "(25000.0, 32000.0)"
      ]
     },
     "execution_count": 16,
     "metadata": {},
     "output_type": "execute_result"
    },
    {
     "data": {
      "image/png": "[encoded data removed]",
      "text/plain": [
       "<Figure size 432x288 with 1 Axes>"
      ]
     },
     "metadata": {
      "needs_background": "light"
     },
     "output_type": "display_data"
    }
   ],
   "source": [
    "ax = sns.barplot(x=\"State\", y=\"IncomePerCap\", data=df.loc[df['State'].isin(['New York','California'])])\n",
    "plt.ylim([25000,32000])"
   ]
  },
  {
   "cell_type": "markdown",
   "metadata": {},
   "source": [
    "# Exercise 1: Boosting the economy by incentivizing self-employment\n",
    "\n",
    "Assume the biggest priority of the local government in 2018 is to increase per-capita income. To do so, the officials plan to adopt a strategy for incentivizing self-employment through a series of campaigns, educational programs, and dedicated funds.\n",
    "\n",
    "Since it is unethical and impossible in this setting to run a controlled experiment involving citizens (e.g., fire employees and force them to self-employ), the officials have asked you, the data scientist, to establish the effect of self-employment on the economy, relying on observational data.\n",
    "\n",
    "**A)** Using suitable methods, determine and quantify the dependency between the percentage of self-employed citizens and per capita income across all 3,212 US counties. Do citizens in counties that have a higher percentage of self-employed people earn more per capita?"
   ]
  },
  {
   "cell_type": "code",
   "execution_count": 17,
   "metadata": {},
   "outputs": [
    {
     "data": {
      "text/plain": [
       "(0.08727386609551786, 7.052861196521423e-07)"
      ]
     },
     "execution_count": 17,
     "metadata": {},
     "output_type": "execute_result"
    }
   ],
   "source": [
    "### your code and or answer here ###\n",
    "stats.pearsonr(df['SelfEmployed'],df['IncomePerCap'])"
   ]
  },
  {
   "cell_type": "raw",
   "metadata": {},
   "source": [
    "Answer : The Pearson correlation coefficient tests the linear relationship between 2 datasets : p-value < 0.05 indicate that there is a significant dependency (at level 0.05) between both variables, hence \"the correlation is not just hazardeous, there is a reason behind\". Here, altough there is a significant correlation, it is so small that it does not indicate any clear dependency. \n",
    "\n",
    "This is roughly how we can interpret:\n",
    "Exactly –1. A perfect downhill (negative) linear relationship\n",
    "–0.70. A strong downhill (negative) linear relationship\n",
    "–0.50. A moderate downhill (negative) relationship\n",
    "–0.30. A weak downhill (negative) linear relationship\n",
    " 0.    No linear relationship\n",
    " 0.30. A weak uphill (positive) linear relationship\n",
    " 0.50. A moderate uphill (positive) relationship\n",
    " 0.70. A strong uphill (positive) linear relationship\n",
    " Exactly +1. A perfect uphill (positive) linear relationship\n"
   ]
  },
  {
   "cell_type": "markdown",
   "metadata": {},
   "source": [
    "**B)** The pilot program will involve all counties within a limited set of three US states. Set A includes Wisconsin, Tennessee, and  Minnesota. Quantify the dependency of per-capita income on self-employment rates across all the counties in set A."
   ]
  },
  {
   "cell_type": "code",
   "execution_count": 18,
   "metadata": {},
   "outputs": [
    {
     "data": {
      "text/html": [
       "<div>\n",
       "<style scoped>\n",
       "    .dataframe tbody tr th:only-of-type {\n",
       "        vertical-align: middle;\n",
       "    }\n",
       "\n",
       "    .dataframe tbody tr th {\n",
       "        vertical-align: top;\n",
       "    }\n",
       "\n",
       "    .dataframe thead th {\n",
       "        text-align: right;\n",
       "    }\n",
       "</style>\n",
       "<table border=\"1\" class=\"dataframe\">\n",
       "  <thead>\n",
       "    <tr style=\"text-align: right;\">\n",
       "      <th></th>\n",
       "      <th>CensusId</th>\n",
       "      <th>State</th>\n",
       "      <th>County</th>\n",
       "      <th>TotalPop</th>\n",
       "      <th>Men</th>\n",
       "      <th>Women</th>\n",
       "      <th>Hispanic</th>\n",
       "      <th>White</th>\n",
       "      <th>Black</th>\n",
       "      <th>Native</th>\n",
       "      <th>...</th>\n",
       "      <th>Walk</th>\n",
       "      <th>OtherTransp</th>\n",
       "      <th>WorkAtHome</th>\n",
       "      <th>MeanCommute</th>\n",
       "      <th>Employed</th>\n",
       "      <th>PrivateWork</th>\n",
       "      <th>PublicWork</th>\n",
       "      <th>SelfEmployed</th>\n",
       "      <th>FamilyWork</th>\n",
       "      <th>Unemployment</th>\n",
       "    </tr>\n",
       "  </thead>\n",
       "  <tbody>\n",
       "    <tr>\n",
       "      <th>1314</th>\n",
       "      <td>27001</td>\n",
       "      <td>Minnesota</td>\n",
       "      <td>Aitkin</td>\n",
       "      <td>15839</td>\n",
       "      <td>8064</td>\n",
       "      <td>7775</td>\n",
       "      <td>1.1</td>\n",
       "      <td>94.4</td>\n",
       "      <td>0.3</td>\n",
       "      <td>1.8</td>\n",
       "      <td>...</td>\n",
       "      <td>4.3</td>\n",
       "      <td>1.5</td>\n",
       "      <td>5.2</td>\n",
       "      <td>25.1</td>\n",
       "      <td>6428</td>\n",
       "      <td>75.4</td>\n",
       "      <td>15.2</td>\n",
       "      <td>9.2</td>\n",
       "      <td>0.2</td>\n",
       "      <td>7.3</td>\n",
       "    </tr>\n",
       "    <tr>\n",
       "      <th>1315</th>\n",
       "      <td>27003</td>\n",
       "      <td>Minnesota</td>\n",
       "      <td>Anoka</td>\n",
       "      <td>338764</td>\n",
       "      <td>169586</td>\n",
       "      <td>169178</td>\n",
       "      <td>3.9</td>\n",
       "      <td>83.8</td>\n",
       "      <td>4.9</td>\n",
       "      <td>0.6</td>\n",
       "      <td>...</td>\n",
       "      <td>1.1</td>\n",
       "      <td>0.9</td>\n",
       "      <td>4.0</td>\n",
       "      <td>28.1</td>\n",
       "      <td>181190</td>\n",
       "      <td>84.7</td>\n",
       "      <td>11.0</td>\n",
       "      <td>4.2</td>\n",
       "      <td>0.1</td>\n",
       "      <td>6.2</td>\n",
       "    </tr>\n",
       "    <tr>\n",
       "      <th>1316</th>\n",
       "      <td>27005</td>\n",
       "      <td>Minnesota</td>\n",
       "      <td>Becker</td>\n",
       "      <td>33138</td>\n",
       "      <td>16601</td>\n",
       "      <td>16537</td>\n",
       "      <td>1.8</td>\n",
       "      <td>86.8</td>\n",
       "      <td>0.5</td>\n",
       "      <td>7.0</td>\n",
       "      <td>...</td>\n",
       "      <td>2.9</td>\n",
       "      <td>1.5</td>\n",
       "      <td>6.6</td>\n",
       "      <td>22.8</td>\n",
       "      <td>15929</td>\n",
       "      <td>74.3</td>\n",
       "      <td>16.4</td>\n",
       "      <td>9.0</td>\n",
       "      <td>0.3</td>\n",
       "      <td>3.5</td>\n",
       "    </tr>\n",
       "    <tr>\n",
       "      <th>1317</th>\n",
       "      <td>27007</td>\n",
       "      <td>Minnesota</td>\n",
       "      <td>Beltrami</td>\n",
       "      <td>45434</td>\n",
       "      <td>22740</td>\n",
       "      <td>22694</td>\n",
       "      <td>1.9</td>\n",
       "      <td>73.4</td>\n",
       "      <td>0.8</td>\n",
       "      <td>20.0</td>\n",
       "      <td>...</td>\n",
       "      <td>3.2</td>\n",
       "      <td>1.3</td>\n",
       "      <td>6.5</td>\n",
       "      <td>20.2</td>\n",
       "      <td>20579</td>\n",
       "      <td>66.8</td>\n",
       "      <td>26.9</td>\n",
       "      <td>6.2</td>\n",
       "      <td>0.1</td>\n",
       "      <td>10.6</td>\n",
       "    </tr>\n",
       "    <tr>\n",
       "      <th>1318</th>\n",
       "      <td>27009</td>\n",
       "      <td>Minnesota</td>\n",
       "      <td>Benton</td>\n",
       "      <td>39221</td>\n",
       "      <td>19500</td>\n",
       "      <td>19721</td>\n",
       "      <td>1.9</td>\n",
       "      <td>92.7</td>\n",
       "      <td>2.3</td>\n",
       "      <td>0.3</td>\n",
       "      <td>...</td>\n",
       "      <td>1.5</td>\n",
       "      <td>1.6</td>\n",
       "      <td>4.9</td>\n",
       "      <td>23.3</td>\n",
       "      <td>20104</td>\n",
       "      <td>82.9</td>\n",
       "      <td>11.2</td>\n",
       "      <td>5.7</td>\n",
       "      <td>0.2</td>\n",
       "      <td>6.7</td>\n",
       "    </tr>\n",
       "    <tr>\n",
       "      <th>...</th>\n",
       "      <td>...</td>\n",
       "      <td>...</td>\n",
       "      <td>...</td>\n",
       "      <td>...</td>\n",
       "      <td>...</td>\n",
       "      <td>...</td>\n",
       "      <td>...</td>\n",
       "      <td>...</td>\n",
       "      <td>...</td>\n",
       "      <td>...</td>\n",
       "      <td>...</td>\n",
       "      <td>...</td>\n",
       "      <td>...</td>\n",
       "      <td>...</td>\n",
       "      <td>...</td>\n",
       "      <td>...</td>\n",
       "      <td>...</td>\n",
       "      <td>...</td>\n",
       "      <td>...</td>\n",
       "      <td>...</td>\n",
       "      <td>...</td>\n",
       "    </tr>\n",
       "    <tr>\n",
       "      <th>3114</th>\n",
       "      <td>55133</td>\n",
       "      <td>Wisconsin</td>\n",
       "      <td>Waukesha</td>\n",
       "      <td>393873</td>\n",
       "      <td>193441</td>\n",
       "      <td>200432</td>\n",
       "      <td>4.5</td>\n",
       "      <td>89.6</td>\n",
       "      <td>1.4</td>\n",
       "      <td>0.1</td>\n",
       "      <td>...</td>\n",
       "      <td>1.3</td>\n",
       "      <td>0.9</td>\n",
       "      <td>4.2</td>\n",
       "      <td>24.0</td>\n",
       "      <td>209461</td>\n",
       "      <td>87.4</td>\n",
       "      <td>8.3</td>\n",
       "      <td>4.2</td>\n",
       "      <td>0.1</td>\n",
       "      <td>4.2</td>\n",
       "    </tr>\n",
       "    <tr>\n",
       "      <th>3115</th>\n",
       "      <td>55135</td>\n",
       "      <td>Wisconsin</td>\n",
       "      <td>Waupaca</td>\n",
       "      <td>52125</td>\n",
       "      <td>26378</td>\n",
       "      <td>25747</td>\n",
       "      <td>2.8</td>\n",
       "      <td>95.0</td>\n",
       "      <td>0.4</td>\n",
       "      <td>0.6</td>\n",
       "      <td>...</td>\n",
       "      <td>2.4</td>\n",
       "      <td>1.8</td>\n",
       "      <td>3.7</td>\n",
       "      <td>22.4</td>\n",
       "      <td>25703</td>\n",
       "      <td>82.3</td>\n",
       "      <td>11.8</td>\n",
       "      <td>5.6</td>\n",
       "      <td>0.3</td>\n",
       "      <td>5.7</td>\n",
       "    </tr>\n",
       "    <tr>\n",
       "      <th>3116</th>\n",
       "      <td>55137</td>\n",
       "      <td>Wisconsin</td>\n",
       "      <td>Waushara</td>\n",
       "      <td>24321</td>\n",
       "      <td>12783</td>\n",
       "      <td>11538</td>\n",
       "      <td>6.2</td>\n",
       "      <td>90.0</td>\n",
       "      <td>1.8</td>\n",
       "      <td>0.5</td>\n",
       "      <td>...</td>\n",
       "      <td>2.3</td>\n",
       "      <td>1.9</td>\n",
       "      <td>4.9</td>\n",
       "      <td>26.5</td>\n",
       "      <td>10458</td>\n",
       "      <td>76.9</td>\n",
       "      <td>14.5</td>\n",
       "      <td>8.2</td>\n",
       "      <td>0.4</td>\n",
       "      <td>7.2</td>\n",
       "    </tr>\n",
       "    <tr>\n",
       "      <th>3117</th>\n",
       "      <td>55139</td>\n",
       "      <td>Wisconsin</td>\n",
       "      <td>Winnebago</td>\n",
       "      <td>169004</td>\n",
       "      <td>85019</td>\n",
       "      <td>83985</td>\n",
       "      <td>3.8</td>\n",
       "      <td>89.7</td>\n",
       "      <td>1.9</td>\n",
       "      <td>0.6</td>\n",
       "      <td>...</td>\n",
       "      <td>2.4</td>\n",
       "      <td>1.3</td>\n",
       "      <td>3.0</td>\n",
       "      <td>18.6</td>\n",
       "      <td>85970</td>\n",
       "      <td>84.9</td>\n",
       "      <td>11.4</td>\n",
       "      <td>3.6</td>\n",
       "      <td>0.1</td>\n",
       "      <td>4.7</td>\n",
       "    </tr>\n",
       "    <tr>\n",
       "      <th>3118</th>\n",
       "      <td>55141</td>\n",
       "      <td>Wisconsin</td>\n",
       "      <td>Wood</td>\n",
       "      <td>74012</td>\n",
       "      <td>36594</td>\n",
       "      <td>37418</td>\n",
       "      <td>2.6</td>\n",
       "      <td>93.2</td>\n",
       "      <td>0.5</td>\n",
       "      <td>0.7</td>\n",
       "      <td>...</td>\n",
       "      <td>4.1</td>\n",
       "      <td>1.9</td>\n",
       "      <td>3.6</td>\n",
       "      <td>18.9</td>\n",
       "      <td>36445</td>\n",
       "      <td>83.5</td>\n",
       "      <td>10.8</td>\n",
       "      <td>5.5</td>\n",
       "      <td>0.2</td>\n",
       "      <td>6.6</td>\n",
       "    </tr>\n",
       "  </tbody>\n",
       "</table>\n",
       "<p>254 rows × 37 columns</p>\n",
       "</div>"
      ],
      "text/plain": [
       "      CensusId      State     County  TotalPop     Men   Women  Hispanic  \\\n",
       "1314     27001  Minnesota     Aitkin     15839    8064    7775       1.1   \n",
       "1315     27003  Minnesota      Anoka    338764  169586  169178       3.9   \n",
       "1316     27005  Minnesota     Becker     33138   16601   16537       1.8   \n",
       "1317     27007  Minnesota   Beltrami     45434   22740   22694       1.9   \n",
       "1318     27009  Minnesota     Benton     39221   19500   19721       1.9   \n",
       "...        ...        ...        ...       ...     ...     ...       ...   \n",
       "3114     55133  Wisconsin   Waukesha    393873  193441  200432       4.5   \n",
       "3115     55135  Wisconsin    Waupaca     52125   26378   25747       2.8   \n",
       "3116     55137  Wisconsin   Waushara     24321   12783   11538       6.2   \n",
       "3117     55139  Wisconsin  Winnebago    169004   85019   83985       3.8   \n",
       "3118     55141  Wisconsin       Wood     74012   36594   37418       2.6   \n",
       "\n",
       "      White  Black  Native  ...  Walk  OtherTransp  WorkAtHome  MeanCommute  \\\n",
       "1314   94.4    0.3     1.8  ...   4.3          1.5         5.2         25.1   \n",
       "1315   83.8    4.9     0.6  ...   1.1          0.9         4.0         28.1   \n",
       "1316   86.8    0.5     7.0  ...   2.9          1.5         6.6         22.8   \n",
       "1317   73.4    0.8    20.0  ...   3.2          1.3         6.5         20.2   \n",
       "1318   92.7    2.3     0.3  ...   1.5          1.6         4.9         23.3   \n",
       "...     ...    ...     ...  ...   ...          ...         ...          ...   \n",
       "3114   89.6    1.4     0.1  ...   1.3          0.9         4.2         24.0   \n",
       "3115   95.0    0.4     0.6  ...   2.4          1.8         3.7         22.4   \n",
       "3116   90.0    1.8     0.5  ...   2.3          1.9         4.9         26.5   \n",
       "3117   89.7    1.9     0.6  ...   2.4          1.3         3.0         18.6   \n",
       "3118   93.2    0.5     0.7  ...   4.1          1.9         3.6         18.9   \n",
       "\n",
       "      Employed  PrivateWork  PublicWork  SelfEmployed  FamilyWork  \\\n",
       "1314      6428         75.4        15.2           9.2         0.2   \n",
       "1315    181190         84.7        11.0           4.2         0.1   \n",
       "1316     15929         74.3        16.4           9.0         0.3   \n",
       "1317     20579         66.8        26.9           6.2         0.1   \n",
       "1318     20104         82.9        11.2           5.7         0.2   \n",
       "...        ...          ...         ...           ...         ...   \n",
       "3114    209461         87.4         8.3           4.2         0.1   \n",
       "3115     25703         82.3        11.8           5.6         0.3   \n",
       "3116     10458         76.9        14.5           8.2         0.4   \n",
       "3117     85970         84.9        11.4           3.6         0.1   \n",
       "3118     36445         83.5        10.8           5.5         0.2   \n",
       "\n",
       "      Unemployment  \n",
       "1314           7.3  \n",
       "1315           6.2  \n",
       "1316           3.5  \n",
       "1317          10.6  \n",
       "1318           6.7  \n",
       "...            ...  \n",
       "3114           4.2  \n",
       "3115           5.7  \n",
       "3116           7.2  \n",
       "3117           4.7  \n",
       "3118           6.6  \n",
       "\n",
       "[254 rows x 37 columns]"
      ]
     },
     "execution_count": 18,
     "metadata": {},
     "output_type": "execute_result"
    }
   ],
   "source": [
    "### your code and or answer here ###\n",
    "set_A = df.loc[(df['State']=='Minnesota')| (df['State']=='Tennessee')|(df['State']=='Wisconsin')][:]\n",
    "set_A"
   ]
  },
  {
   "cell_type": "code",
   "execution_count": 19,
   "metadata": {},
   "outputs": [
    {
     "data": {
      "text/plain": [
       "(-0.20229350736521498, 0.0011881639322139396)"
      ]
     },
     "execution_count": 19,
     "metadata": {},
     "output_type": "execute_result"
    }
   ],
   "source": [
    "stats.pearsonr(set_A['SelfEmployed'],set_A['IncomePerCap'])"
   ]
  },
  {
   "cell_type": "raw",
   "metadata": {},
   "source": [
    "Answer : rather low negative correlation, hence no significant dependency, altough p < 0.05. "
   ]
  },
  {
   "cell_type": "markdown",
   "metadata": {},
   "source": [
    "**C)** In which state within set A is the observed effect of self-employment on per-capita income the strongest?"
   ]
  },
  {
   "cell_type": "code",
   "execution_count": 20,
   "metadata": {},
   "outputs": [
    {
     "name": "stdout",
     "output_type": "stream",
     "text": [
      "(-0.32905300016378525, 0.004768134887745222)\n",
      "(-0.2538551921654062, 0.01766519930091192)\n",
      "(-0.23836048684913147, 0.02001163195552807)\n"
     ]
    }
   ],
   "source": [
    "### your code and or answer here ###\n",
    "print(stats.pearsonr(set_A[set_A['State']=='Wisconsin']['SelfEmployed'],set_A[set_A['State']=='Wisconsin']['IncomePerCap']))\n",
    "print(stats.pearsonr(set_A[set_A['State']=='Minnesota']['SelfEmployed'],set_A[set_A['State']=='Minnesota']['IncomePerCap']))\n",
    "print(stats.pearsonr(set_A[set_A['State']=='Tennessee']['SelfEmployed'],set_A[set_A['State']=='Tennessee']['IncomePerCap']))\n"
   ]
  },
  {
   "cell_type": "raw",
   "metadata": {},
   "source": [
    "Answer : the greatest observed effect (both variables are correlated) is for Wisconsin (-0.329 correlation); all are dependent as p-value < 0.05."
   ]
  },
  {
   "cell_type": "markdown",
   "metadata": {},
   "source": [
    "**D)** Set B includes New Jersey, Kansas, and Rhode Island. Repeat the analysis from steps B and C above, but now for set B. In which of the two sets A and B (if any) would you recommend incentivizing self-employment? Explain your reasoning. Hint: It is useful to add a notion of confidence to your results and explore the data visually."
   ]
  },
  {
   "cell_type": "code",
   "execution_count": 21,
   "metadata": {},
   "outputs": [
    {
     "name": "stdout",
     "output_type": "stream",
     "text": [
      "Correlation and p-value for set B:\n",
      "(-0.2322214134608569, 0.007607493042857402)\n",
      "Correlation and p-value for states within set B:\n",
      "(0.48044784713362815, 0.027488944757806236)\n",
      "(0.2581029971443692, 0.00785335184683246)\n",
      "(0.9021788382149805, 0.03618310201575917)\n"
     ]
    }
   ],
   "source": [
    "### your code and or answer here ###\n",
    "set_B = df.loc[(df['State']=='New Jersey')| (df['State']=='Kansas')|(df['State']=='Rhode Island')][:]\n",
    "print('Correlation and p-value for set B:')\n",
    "print(stats.pearsonr(set_B['SelfEmployed'],set_B['IncomePerCap']))\n",
    "\n",
    "print('Correlation and p-value for states within set B:')\n",
    "print(stats.pearsonr(set_B[set_B['State']=='New Jersey']['SelfEmployed'],set_B[set_B['State']=='New Jersey']['IncomePerCap']))\n",
    "print(stats.pearsonr(set_B[set_B['State']=='Kansas']['SelfEmployed'],set_B[set_B['State']=='Kansas']['IncomePerCap']))\n",
    "print(stats.pearsonr(set_B[set_B['State']=='Rhode Island']['SelfEmployed'],set_B[set_B['State']=='Rhode Island']['IncomePerCap']))\n"
   ]
  },
  {
   "cell_type": "raw",
   "metadata": {},
   "source": [
    "Answer : In set A, all states independently have a negative correlation, whereas in B, the correlation are all positive when taken per state. Hence, choose B and more specifically Rhode Island, as its correlation is very high. "
   ]
  },
  {
   "cell_type": "markdown",
   "metadata": {},
   "source": [
    "# Exercise 2. Data visualization and read the stats comprehension and interpretation questions.\n",
    "\n",
    "- As part of the two homeworks and the final exam, you will be at times asked to interpret your result based on the understanding of underlying concepts. The questions below can help you practice and get a sense of how well you understand the concepts covered in the class so far. Can you answer these questions confidently?"
   ]
  },
  {
   "cell_type": "markdown",
   "metadata": {},
   "source": [
    "### Question 1. The yearly salaries (in thousands of CHF) of 7000 people are summarized in the following box plot. If the 20th percentile of the salaries is 110,000, how many people earn between 110,000 and 114,000?\n",
    "\n",
    "- a) 2100\n",
    "- b) 700\n",
    "- c) 350\n",
    "- d) 70"
   ]
  },
  {
   "cell_type": "markdown",
   "metadata": {},
   "source": [
    "<img src=\"boxplot.png\" style=\"width: 400px;\" align=\"left\"/>"
   ]
  },
  {
   "cell_type": "raw",
   "metadata": {
    "collapsed": true
   },
   "source": [
    "20% (7000/5 = 1400) of people's salaries are below 110'000, and the median is at 118'000 CHF, the quartiles are at 114'000 and 121'000. Hence between 110'000 and 114'000 there is 5% of people, which is 350 people = c). "
   ]
  },
  {
   "cell_type": "markdown",
   "metadata": {},
   "source": [
    "### Question 2. What visualizations are suitable for getting insights about the distribution of a single continuous variable?\n",
    "\n",
    "- a) Barplot and histogram\n",
    "- b) Boxplot and histogram\n",
    "- c) Scatterplot and boxplot\n",
    "- d) Barplot, boxplot, and histogram"
   ]
  },
  {
   "cell_type": "raw",
   "metadata": {
    "collapsed": true
   },
   "source": [
    "a) NO : b) Boxplot and histogram"
   ]
  },
  {
   "cell_type": "markdown",
   "metadata": {},
   "source": [
    "### Question 3. In a new groundbreaking study, 28 out of 100 patients reported improvements after taking a new medicine. It is known that, when given a placebo, 20% of the patients report feeling better. What is the p-value assuming the null hypothesis that the probability of successful treatment in this groundbreaking study is the same as the probability of reporting feeling better under placebo, according to a one-sided binomial test? Hint: you may use the statsmodels.stats.proportion.binom_test function.\n",
    "\n",
    "- a) 0.00034\n",
    "- b) 0.0034\n",
    "- c) 0.034\n",
    "- d) 0.34"
   ]
  },
  {
   "cell_type": "code",
   "execution_count": 22,
   "metadata": {},
   "outputs": [
    {
     "data": {
      "text/plain": [
       "0.034151629639075066"
      ]
     },
     "execution_count": 22,
     "metadata": {},
     "output_type": "execute_result"
    }
   ],
   "source": [
    "#stats.proportion.binom_test(28,100, prop = 0.2, alternative = 'larger')\n",
    "import statsmodels.api as sm\n",
    "import statsmodels\n",
    "statsmodels.stats.proportion.binom_test(28, 100, prop=0.2, alternative='larger')\n",
    "# answer : c)"
   ]
  },
  {
   "cell_type": "markdown",
   "metadata": {},
   "source": [
    "### Question 4. The 95% confidence interval of the average height of 1000 people using bootstrap resampling with 10000 bootstrap samples is calculated by:\n",
    "\n",
    "- a) Sampling 1000 height values with replacement and computing the mean. This is repeated 10000 times to create a sorted list of the 10000 means. The CI is defined by the 500th and the 9500th value in sorted order.\n",
    "- b) Sampling 10000 height values without replacement and computing the mean. This is repeated 1000 times to create a sorted list of the 1000 means. The CI is defined by the 25th and the 975th value in sorted order.\n",
    "- c) Sampling 1000 height values with replacement and computing the mean. This is repeated 10000 times to create a sorted list of the 10000 means. The CI is defined by the 250th and the 9750th value in sorted order.\n",
    "- d) Sampling 1000 height values without replacement and computing the mean. This is repeated 10000 times to create a sorted list of the 10000 means. The CI is defined by the 500th and the 9500th value in sorted order.\n",
    "\n",
    "### Implement your bootstrapping function that you will use in the rest of the course. It should take an array and the number of iterations as inputs, and output 95% confidence intervals of the mean."
   ]
  },
  {
   "cell_type": "raw",
   "metadata": {
    "collapsed": true
   },
   "source": [
    "c) : with replacement, as we want to do 10000 samples. Computing the means, we sort them to take the CI of 95% of all points, leaving 2.5% on each side of it. "
   ]
  },
  {
   "cell_type": "markdown",
   "metadata": {},
   "source": [
    "### Question 5. A study conducted at EPFL revealed a negative Spearman’s correlation between GPA and entry-level job salary. Which of the following statements is true?\n",
    "\n",
    "- a) There could be a positive Spearman’s correlation between GPA and entry-level job salary in every single department of EPFL.\n",
    "- b) Spearman correlation between GPA and entry-level job salary in every single department has to be positive.\n",
    "- c) Across all levels, as opposed to entry-level only, higher GPA scores are associated with higher job salaries.\n",
    "- d) We can infer that finishing EPFL with a higher GPA causes you to have a lower entry-level job salary."
   ]
  },
  {
   "cell_type": "raw",
   "metadata": {
    "collapsed": true
   },
   "source": [
    "a) due to Simpson's paradox"
   ]
  },
  {
   "cell_type": "markdown",
   "metadata": {},
   "source": [
    "### Question 6. The average number of requests per page during a day on a large website is 200, while the median is 15. \n",
    "\n",
    "- a) You can assume that the distribution is heavy-tailed\n",
    "- b) You are dealing with a left-skewed distribution\n",
    "- c) Half of the pages get more than 200 requests\n",
    "- d) None of the above"
   ]
  },
  {
   "cell_type": "raw",
   "metadata": {},
   "source": [
    "d) None, as there could be a quasi-normal distribution around 15 and a huge outlier that yields an average of 200."
   ]
  }
 ],
 "metadata": {
  "kernelspec": {
   "display_name": "Python 3",
   "language": "python",
   "name": "python3"
  },
  "language_info": {
   "codemirror_mode": {
    "name": "ipython",
    "version": 3
   },
   "file_extension": ".py",
   "mimetype": "text/x-python",
   "name": "python",
   "nbconvert_exporter": "python",
   "pygments_lexer": "ipython3",
   "version": "3.8.3"
  },
  "varInspector": {
   "cols": {
    "lenName": 16,
    "lenType": 16,
    "lenVar": 40
   },
   "kernels_config": {
    "python": {
     "delete_cmd_postfix": "",
     "delete_cmd_prefix": "del ",
     "library": "var_list.py",
     "varRefreshCmd": "print(var_dic_list())"
    },
    "r": {
     "delete_cmd_postfix": ") ",
     "delete_cmd_prefix": "rm(",
     "library": "var_list.r",
     "varRefreshCmd": "cat(var_dic_list()) "
    }
   },
   "types_to_exclude": [
    "module",
    "function",
    "builtin_function_or_method",
    "instance",
    "_Feature"
   ],
   "window_display": false
  }
 },
 "nbformat": 4,
 "nbformat_minor": 2
}
