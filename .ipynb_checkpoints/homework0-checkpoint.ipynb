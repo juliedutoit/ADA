{
 "cells": [
  {
   "cell_type": "markdown",
   "metadata": {},
   "source": [
    "Import the data in .csv form USING PANDAS\n",
    "    (use of error_bad_lines = False to drop every line that contains not full data in the new dataframe df)"
   ]
  },
  {
   "cell_type": "code",
   "execution_count": 53,
   "metadata": {},
   "outputs": [],
   "source": [
    "import pandas as pd\n",
    "url = 'https://raw.githubusercontent.com/fivethirtyeight/guns-data/master/interactive_data.csv'\n",
    "df = pd.read_csv(url, error_bad_lines=False)"
   ]
  },
  {
   "cell_type": "markdown",
   "metadata": {},
   "source": [
    "## Nearly two-thirds of gun deaths are suicides."
   ]
  },
  {
   "cell_type": "code",
   "execution_count": 55,
   "metadata": {},
   "outputs": [
    {
     "data": {
      "text/plain": [
       "array(['None selected', 'Suicide', 'Homicide', 'Accident', 'Unknown'],\n",
       "      dtype=object)"
      ]
     },
     "execution_count": 55,
     "metadata": {},
     "output_type": "execute_result"
    }
   ],
   "source": [
    "types_deaths = table_data['Intent'].unique()\n",
    "types_deaths"
   ]
  },
  {
   "cell_type": "code",
   "execution_count": 54,
   "metadata": {},
   "outputs": [],
   "source": [
    "table_data = df.copy() #not compulsory, just putting the DataFrame into a table\n",
    "deaths_others = table_data[(table_data.Intent == 'None selected') & (table_data.Gender == 'None selected') & (table_data.Age == 'None selected') & (table_data.Race == 'None selected')].Deaths\n",
    "deaths_suicides = table_data[(table_data.Intent == 'Suicide') & (table_data.Gender == 'None selected') & (table_data.Age == 'None selected') & (table_data.Race == 'None selected')].Deaths"
   ]
  },
  {
   "cell_type": "code",
   "execution_count": 56,
   "metadata": {},
   "outputs": [
    {
     "name": "stdout",
     "output_type": "stream",
     "text": [
      "Probability of suicides: 0.6267448435965356\n"
     ]
    }
   ],
   "source": [
    "print(\"Probability of suicides: {}\".format(float(deaths_suicides)/float(deaths_others)))"
   ]
  },
  {
   "cell_type": "markdown",
   "metadata": {},
   "source": [
    "## More than 85 percent of suicide victims are male."
   ]
  },
  {
   "cell_type": "markdown",
   "metadata": {},
   "source": [
    "USING THE PYTHON STANDARD LYBRARY (PSL)"
   ]
  },
  {
   "cell_type": "code",
   "execution_count": 86,
   "metadata": {},
   "outputs": [],
   "source": [
    "import csv\n",
    "with open('interactive_data.csv', newline='') as f:\n",
    "    table = csv.reader(f, delimiter=',', quotechar='|') # quotechar : to take every object in quotation marks\n",
    "   # for row in table:\n",
    "   #     print(', '.join(row))"
   ]
  },
  {
   "cell_type": "code",
   "execution_count": 129,
   "metadata": {},
   "outputs": [
    {
     "name": "stdout",
     "output_type": "stream",
     "text": [
      "Male proportion in suicides: 0.8624750688574414\n"
     ]
    }
   ],
   "source": [
    "import csv \n",
    "f = open('interactive_data.csv') # f is a csv file object\n",
    "table = csv.reader(f)\n",
    "\n",
    "for row in table:\n",
    "    if row[1]=='Suicide':\n",
    "        if (row[2]=='None selected') & (row[3]=='None selected') & (row[4]=='None selected'):\n",
    "            tot_suicides = row[5]\n",
    "        if (row[2]=='Male') & (row[3]=='None selected') & (row[4]=='None selected'):\n",
    "            male_suicides = row[5]\n",
    "print(\"Male proportion in suicides: {}\".format(float(male_suicides)/float(tot_suicides)))\n",
    "f.close()"
   ]
  },
  {
   "cell_type": "markdown",
   "metadata": {},
   "source": [
    "## Around a third of all gun deaths are homicides."
   ]
  },
  {
   "cell_type": "code",
   "execution_count": 174,
   "metadata": {},
   "outputs": [
    {
     "name": "stdout",
     "output_type": "stream",
     "text": [
      "Probability of homicides in gun deaths: 0.3489984820976815\n"
     ]
    }
   ],
   "source": [
    "import csv \n",
    "f = open('interactive_data.csv') # f is a csv file object\n",
    "table = csv.reader(f)\n",
    "\n",
    "tot_gundeaths = 0\n",
    "table_gundeaths = []\n",
    "\n",
    "for row in table:\n",
    "    if row[1]!='None selected':\n",
    "        if (row[2]=='None selected') & (row[3]=='None selected') & (row[4]=='None selected'):\n",
    "            # print(row) # in order to see what death types there is\n",
    "            table_gundeaths.append(row) # appends the rows corresponding to the if condition into a table\n",
    "            if row[1]=='Homicide':\n",
    "                homicides = row[5]\n",
    "for i in range(len(table_gundeaths)):\n",
    "    tot_gundeaths = tot_gundeaths + float(table_test[i][5])\n",
    "print(\"Probability of homicides in gun deaths: {}\".format(float(homicides)/float(tot_gundeaths)))\n",
    "\n",
    "# print(table_test[1]) # print the first row of the table\n",
    "# print(table_test[1][1])# print the first element of the first row\n",
    "f.close()"
   ]
  },
  {
   "cell_type": "markdown",
   "metadata": {},
   "source": [
    "## Around two-thirds of homicide victims who are males in the age-group of 15-34 are black."
   ]
  },
  {
   "cell_type": "code",
   "execution_count": 179,
   "metadata": {},
   "outputs": [
    {
     "name": "stdout",
     "output_type": "stream",
     "text": [
      "Probability : 0.6613496932515337\n"
     ]
    }
   ],
   "source": [
    "import csv \n",
    "f = open('interactive_data.csv') # f is a csv file object\n",
    "table = csv.reader(f)\n",
    "\n",
    "for row in table:\n",
    "    if (row[1]=='Homicide') & (row[2]=='Male') & (row[3]=='15 - 34'):\n",
    "        if (row[4]=='None selected'):\n",
    "            tot = row[5]\n",
    "        if (row[4]=='Black'):\n",
    "            black = row[5] \n",
    "print(\"Probability : {}\".format(float(black)/float(tot)))\n",
    "f.close()"
   ]
  },
  {
   "cell_type": "markdown",
   "metadata": {},
   "source": [
    "## Women constitue only 15 percent of the total homicide victims."
   ]
  },
  {
   "cell_type": "code",
   "execution_count": 180,
   "metadata": {},
   "outputs": [
    {
     "name": "stdout",
     "output_type": "stream",
     "text": [
      "Female homicides proportion : 0.15273750639604297\n"
     ]
    }
   ],
   "source": [
    "import csv \n",
    "f = open('interactive_data.csv') # f is a csv file object\n",
    "table = csv.reader(f)\n",
    "\n",
    "for row in table:\n",
    "    if (row[1]=='Homicide') & (row[2]=='Female') & (row[3]=='None selected') & (row[4]=='None selected'):\n",
    "            homicides_woman = row[5]\n",
    "    if (row[1]=='Homicide') & (row[2]=='None selected') & (row[3]=='None selected') & (row[4]=='None selected'):\n",
    "            homicides_tot = row[5] \n",
    "print(\"Female homicides proportion : {}\".format(float(homicides_woman)/float(homicides_tot)))\n",
    "f.close()"
   ]
  }
 ],
 "metadata": {
  "kernelspec": {
   "display_name": "Python [conda env:ada]",
   "language": "python",
   "name": "conda-env-ada-py"
  },
  "language_info": {
   "codemirror_mode": {
    "name": "ipython",
    "version": 3
   },
   "file_extension": ".py",
   "mimetype": "text/x-python",
   "name": "python",
   "nbconvert_exporter": "python",
   "pygments_lexer": "ipython3",
   "version": "3.8.5"
  }
 },
 "nbformat": 4,
 "nbformat_minor": 4
}
